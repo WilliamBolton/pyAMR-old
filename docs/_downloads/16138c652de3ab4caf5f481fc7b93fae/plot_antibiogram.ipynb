{
  "cells": [
    {
      "cell_type": "code",
      "execution_count": null,
      "metadata": {
        "collapsed": false
      },
      "outputs": [],
      "source": [
        "%matplotlib inline"
      ]
    },
    {
      "cell_type": "markdown",
      "metadata": {},
      "source": [
        "\n# SARI - Antibiogram\n\n.. todo:: Explain...\n"
      ]
    },
    {
      "cell_type": "code",
      "execution_count": null,
      "metadata": {
        "collapsed": false
      },
      "outputs": [],
      "source": [
        "# Libraries\nimport sys\nimport numpy as np \nimport pandas as pd \nimport seaborn as sns\nimport matplotlib as mpl\nimport matplotlib.pyplot as plt\n\n# Import own libraries\nfrom pyamr.graphics.antibiogram import Antibiogram\n\n# -------------------------\n# Configuration\n# -------------------------\n# Configure seaborn style (context=talk)\nsns.set(style=\"white\")\n\n# Set matplotlib\nmpl.rcParams['xtick.labelsize'] = 9\nmpl.rcParams['ytick.labelsize'] = 9\nmpl.rcParams['axes.titlesize'] = 11\nmpl.rcParams['legend.fontsize'] = 9\n\n# Pandas configuration\npd.set_option('display.max_colwidth', 40)\npd.set_option('display.width', 300)\npd.set_option('display.precision', 4)\n\n# Numpy configuration\nnp.set_printoptions(precision=2)\n\n\n# -------------------------------\n# Load data\n# -------------------------------\n# Load\ndataframe = pd.read_csv('../_data/data-antibiogram.csv')\n\n# Show data\nprint(\"Data input:\")\nprint(dataframe.head(10))\n\n# -------------------------------\n# Create object\n# -------------------------------\n# Antibiogram plotter\nantibiogram = Antibiogram(column_organism='organismCode',\n                          column_antibiotic='antibioticCode',\n                          column_genus='specieName',\n                          column_category='antibioticClass',\n                          column_index='sari')\n\n# Fit antibiogram\nantibiogram = antibiogram.fit(dataframe)\n\n# ---------\n# Example 1\n# ----------\nantibiogram.plot(genera=['staphylococcus',\n                         'klebsiella',\n                         'streptococcus',\n                         'enterococcus'],\n                 method='weighted',\n                 metric='euclidean',\n                 figsize=(15,8))\n\n# Show\nplt.show()"
      ]
    }
  ],
  "metadata": {
    "kernelspec": {
      "display_name": "Python 3",
      "language": "python",
      "name": "python3"
    },
    "language_info": {
      "codemirror_mode": {
        "name": "ipython",
        "version": 3
      },
      "file_extension": ".py",
      "mimetype": "text/x-python",
      "name": "python",
      "nbconvert_exporter": "python",
      "pygments_lexer": "ipython3",
      "version": "3.9.1"
    }
  },
  "nbformat": 4,
  "nbformat_minor": 0
}