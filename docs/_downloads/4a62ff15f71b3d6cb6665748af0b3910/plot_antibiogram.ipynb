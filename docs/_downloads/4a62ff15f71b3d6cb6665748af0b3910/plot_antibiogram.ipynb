{
  "cells": [
    {
      "cell_type": "code",
      "execution_count": null,
      "metadata": {
        "collapsed": false
      },
      "outputs": [],
      "source": [
        "%matplotlib inline"
      ]
    },
    {
      "cell_type": "markdown",
      "metadata": {},
      "source": [
        "\n# SARI - Antibiogram\n\n.. todo:: Explain and Simplify\n\n.. todo: Frequency might not be working?\n         Frequency can be computed as sum of columns.\n"
      ]
    },
    {
      "cell_type": "code",
      "execution_count": null,
      "metadata": {
        "collapsed": false
      },
      "outputs": [],
      "source": [
        "# Libraries\nimport sys\nimport glob\nimport numpy as np \nimport pandas as pd \nimport seaborn as sns\nimport matplotlib as mpl\nimport matplotlib.pyplot as plt\n\n# Import own libraries\nfrom pyamr.datasets import load\nfrom pyamr.core.freq import Frequency\nfrom pyamr.core.sari import SARI\nfrom pyamr.graphics.antibiogram import Antibiogram\n\n# -------------------------\n# Configuration\n# -------------------------\n# Configure seaborn style (context=talk)\nsns.set(style=\"white\")\n\n# Set matplotlib\nmpl.rcParams['xtick.labelsize'] = 9\nmpl.rcParams['ytick.labelsize'] = 9\nmpl.rcParams['axes.titlesize'] = 11\nmpl.rcParams['legend.fontsize'] = 9\n\n# Pandas configuration\npd.set_option('display.max_colwidth', 40)\npd.set_option('display.width', 300)\npd.set_option('display.precision', 4)\n\n# Numpy configuration\nnp.set_printoptions(precision=2)\n\n\n# -------------------------------\n# Load data\n# -------------------------------\n# Load\n#dataframe = pd.read_csv('../_data/data-antibiogram.csv')\n# Path to susceptibility data\npath_sus = '../../resources/data/nhs/susceptibility/complete/'\npath_abx = '../../resources/data/nhs/antibiotics/antibiotics.csv'\npath_org = '../../resources/data/nhs/organisms/organisms.csv'\n\n# Interesting columns\nusecols = ['dateReceived',\n           'orderCode',\n           'orderName',\n           'specimenType',\n           'labNumber',\n           'patNumber',\n           'organismName',\n           'organismCode',\n           'antibioticName',\n           'antibioticCode',\n           'sensitivity']\n\n# Load all files\ndataframe = pd.concat([  \\\n    pd.read_csv(f, parse_dates=['dateReceived'],\n        usecols=usecols) for f in glob.glob(path_sus + \"/*.csv\")])\n\n# Show\nprint(\"\\nData:\")\nprint(dataframe)\n\n\n# --------------------\n# compute frequencies\n# --------------------\n# Create instance\nfreq = Frequency(column_antibiotic='antibioticCode',\n                 column_organism='organismCode',\n                 column_date='dateReceived',\n                 column_outcome='sensitivity')\n\n# Compute frequencies overall\nfreq_overall = freq.compute(dataframe, strategy='overall',\n                                       by_category='pairs')\n\n# Show\nprint(\"\\nFrequencies:\")\nprint(freq_overall.head(10))\n\n# ------------------------\n# compute resistance index\n# ------------------------\n# Compute sari\nsari_overall = SARI(strategy='medium').compute(freq_overall)\n\n# Show\nprint(\"\\nSARI:\")\nprint(sari_overall.head(10))\n\n\n# ------------------------\n# format dataframe\n# ------------------------\ndef create_mapper(dataframe, column_key, column_value):\n  \"\"\"This method constructs a mapper\n\n  Parameters\n  ----------\n  dataframe: dataframe-like\n    The dataframe from which the columns are extracted\n\n  column_key: string-like\n    The name of the column with the values for the keys of the mapper\n\n  column_value: string-like\n    The name of the column with the values for the values of the mapper\n\n  Returns\n  -------\n  dictionary\n  \"\"\"\n  dataframe = dataframe[[column_key, column_value]]\n  dataframe = dataframe.drop_duplicates()\n  return dict(zip(dataframe[column_key], dataframe[column_value]))\n\n# Load datasets\nantibiotics = pd.read_csv(path_abx)\norganisms = pd.read_csv(path_org)\n\n# Create mappers\nabx_map = create_mapper(antibiotics, 'antibioticCode', 'antibioticClass')\norg_map = create_mapper(organisms, 'organismCode', 'specieName')\n\n# Copy dataframe\ndataframe = sari_overall.copy(deep=True)\ndataframe = dataframe.reset_index()\n\n\n# Include categories\ndataframe['category'] = dataframe['ANTIBIOTIC'].map(abx_map)\ndataframe['genus'] = dataframe['SPECIE'].map(org_map)\n\n# ------------------------\n# create antibiogram\n# ------------------------\n# Antibiogram plotter\nantibiogram = Antibiogram(column_organism='SPECIE',\n                          column_antibiotic='ANTIBIOTIC',\n                          column_genus='genus',\n                          column_category='category',\n                          column_index='sari')\n\n# Fit antibiogram\nantibiogram = antibiogram.fit(dataframe)\n\n# ---------\n# Example 1\n# ----------\nantibiogram.plot(genera=['staphylococcus',\n                          'klebsiella',\n                          'streptococcus',\n                          'enterococcus'],\n                 method='weighted',\n                 metric='euclidean',\n                 figsize=(15,8))\n\nprint(\"Total records\")\nprint(dataframe[['intermediate', 'resistant', 'sensitive']].sum().sum())\n\n# Show\nplt.show()"
      ]
    }
  ],
  "metadata": {
    "kernelspec": {
      "display_name": "Python 3",
      "language": "python",
      "name": "python3"
    },
    "language_info": {
      "codemirror_mode": {
        "name": "ipython",
        "version": 3
      },
      "file_extension": ".py",
      "mimetype": "text/x-python",
      "name": "python",
      "nbconvert_exporter": "python",
      "pygments_lexer": "ipython3",
      "version": "3.9.1"
    }
  },
  "nbformat": 4,
  "nbformat_minor": 0
}