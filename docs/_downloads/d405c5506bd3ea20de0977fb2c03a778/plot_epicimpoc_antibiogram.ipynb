{
  "cells": [
    {
      "cell_type": "code",
      "execution_count": null,
      "metadata": {
        "collapsed": false
      },
      "outputs": [],
      "source": [
        "%matplotlib inline"
      ]
    },
    {
      "cell_type": "markdown",
      "metadata": {},
      "source": [
        "\n# Visualization - antibiogram\n\nThe example below loads a portion of the culture dataset and creates the \npipeline to remove outliers, imput missing data, address the class imbalance \nand scale the data features accordingly. After this, a number of estimators \nare trained and tested (see wrappers and grids). The results such as the\nestimators (pickle) and metrics (csv) re stored in the specified path.\n\n@see core\n@see xxx\n"
      ]
    },
    {
      "cell_type": "code",
      "execution_count": null,
      "metadata": {
        "collapsed": false
      },
      "outputs": [],
      "source": [
        "# Import libraries\nimport sys\nimport warnings\nimport numpy as np\nimport pandas as pd\nimport seaborn as sns\nimport matplotlib as mpl\nimport matplotlib.pyplot as plt\n\n# Import specific libraries\nfrom pyamr.datasets import load\nfrom pyamr.core.freq import Frequency\nfrom pyamr.core.sari import SARI\nfrom pyamr.core.asai import ASAI\nfrom pyamr.core.table.acronym import AcronymBuilder\nfrom pyamr.graphics.antibiogram import Antibiogram\n\n# Ignore warnings\nwarnings.simplefilter('ignore')\n\n# Configure seaborn style (context=talk)\nsns.set(style=\"white\")\n\n# Set matplotlib\nmpl.rcParams['xtick.labelsize'] = 9\nmpl.rcParams['ytick.labelsize'] = 9\nmpl.rcParams['axes.titlesize'] = 11\nmpl.rcParams['legend.fontsize'] = 9\n\n# Pandas configuration\npd.set_option('display.max_colwidth', 40)\npd.set_option('display.width', 300)\npd.set_option('display.precision', 4)\n\n# Numpy configuration\nnp.set_printoptions(precision=2)\n\n\n# -------------------------\n# load susceptibility data\n# -------------------------\n# Load data\ndata = load.dataset_epicimpoc_susceptibility(nrows=10000)\n\n# Filter required columns\ndata = data[['antibioticCode',\n             'organismCode',\n             'dateReceived',\n             'sensitivity',\n             'orderCode']]\n\n# Select specific examples\n#is_cod = data['orderCode']=='URICUL'\n#is_org = data['organismCode']=='ECOL'\n#is_abx = data['antibioticCode'].isin(['ATAZ', 'AMER'])\n#data = data[is_cod & is_abx & is_org]\n\n# Show\nprint(\"\\n\\nData input:\")\nprint(data.head(10))\n\n# --------------------\n# compute frequencies\n# --------------------\n# Create instance\nfreq = Frequency(column_antibiotic='antibioticCode',\n                 column_organism='organismCode',\n                 column_date='dateReceived',\n                 column_outcome='sensitivity')\n\n# Compute frequencies overall\nfreq_overall = freq.compute(data, strategy='overall', \n                                  by_category='pairs')\n\n# ------------------------\n# compute resistance index\n# ------------------------\n# Compute sari\nsari_overall = SARI(strategy='medium').compute(freq_overall)\n\n# ------------------------\n# format dataframe\n# ------------------------\n\ndef create_mapper(dataframe, column_key, column_value):\n  \"\"\"This method constructs a mapper\n\n  Parameters\n  ----------\n  dataframe: dataframe-like\n    The dataframe from which the columns are extracted\n\n  column_key: string-like\n    The name of the column with the values for the keys of the mapper\n\n  column_value: string-like\n    The name of the column with the values for the values of the mapper\n\n  Returns\n  -------\n  dictionary\n  \"\"\"\n  dataframe = dataframe[[column_key, column_value]]\n  dataframe = dataframe.drop_duplicates()\n  return dict(zip(dataframe[column_key], dataframe[column_value]))\n\n# Load datasets\nantibiotics = load.dataset_epicimpoc_antibiotics()\norganisms = load.dataset_epicimpoc_organisms()\n\n# Create mappers\nabx_map = create_mapper(antibiotics, 'antibioticCode', 'antibioticClass')\norg_map = create_mapper(organisms, 'organismCode', 'specieName')\n\n# Copy dataframe\ndataframe = sari_overall.copy(deep=True)\ndataframe = dataframe.reset_index()\n\n# Include categories\ndataframe['category'] = dataframe['ANTIBIOTIC'].map(abx_map)\ndataframe['genus'] = dataframe['SPECIE'].map(org_map)\n\n# Show dataframe\nprint(\"\\n\\nData antibiogram:\")\nprint(dataframe.head(10))\n\n# ------------------------\n# create antibiogram\n# ------------------------\n# Antibiogram plotter\nantibiogram = Antibiogram(column_organism='SPECIE',\n                          column_antibiotic='ANTIBIOTIC',\n                          column_genus='genus',\n                          column_category='category',\n                          column_index='sari')\n\n# Fit antibiogram\nantibiogram = antibiogram.fit(dataframe)\n\n# ---------\n# Example 1\n# ----------\nantibiogram.plot(genera=['staphylococcus',\n                          'klebsiella',\n                          'streptococcus',\n                          'enterococcus'],\n                 method='weighted',\n                 metric='euclidean',\n                 figsize=(15,8))\n\n# Show\nplt.show()"
      ]
    }
  ],
  "metadata": {
    "kernelspec": {
      "display_name": "Python 3",
      "language": "python",
      "name": "python3"
    },
    "language_info": {
      "codemirror_mode": {
        "name": "ipython",
        "version": 3
      },
      "file_extension": ".py",
      "mimetype": "text/x-python",
      "name": "python",
      "nbconvert_exporter": "python",
      "pygments_lexer": "ipython3",
      "version": "3.9.1"
    }
  },
  "nbformat": 4,
  "nbformat_minor": 0
}